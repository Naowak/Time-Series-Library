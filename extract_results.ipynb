{
 "cells": [
  {
   "cell_type": "code",
   "execution_count": 28,
   "id": "84ed4692",
   "metadata": {},
   "outputs": [],
   "source": [
    "# Extract short term forecast\n",
    "\n",
    "# SEE LAST LINE OF THE LOGGING FILE FOR THE SHORT TERM FORECAST"
   ]
  },
  {
   "cell_type": "code",
   "execution_count": 29,
   "id": "50250dfd",
   "metadata": {},
   "outputs": [
    {
     "data": {
      "text/plain": [
       "0.81508"
      ]
     },
     "execution_count": 29,
     "metadata": {},
     "output_type": "execute_result"
    }
   ],
   "source": [
    "# Extract anomaly detection\n",
    "import re\n",
    "import numpy as np\n",
    "\n",
    "# Load file\n",
    "filename = \"results/result_anomaly_detection.txt\"\n",
    "with open(filename, 'r') as f:\n",
    "    text = f.read()\n",
    "\n",
    "# Find F-score\n",
    "f_score = re.findall(r'F-score : ([\\d.]+)', text)\n",
    "if len(f_score) != 5:\n",
    "    raise ValueError(f\"Expected 5 F-scores, found {len(f_score)} in the file.\")\n",
    "\n",
    "f_score = np.array(f_score, dtype=float)\n",
    "np.mean(f_score)"
   ]
  },
  {
   "cell_type": "code",
   "execution_count": 32,
   "id": "c8ab12ee",
   "metadata": {},
   "outputs": [
    {
     "data": {
      "text/plain": [
       "0.5382617563009262"
      ]
     },
     "execution_count": 32,
     "metadata": {},
     "output_type": "execute_result"
    }
   ],
   "source": [
    "# Extract imputation\n",
    "import re\n",
    "import numpy as np\n",
    "\n",
    "# Load file\n",
    "filename = \"results/result_imputation.txt\"\n",
    "with open(filename, 'r') as f:\n",
    "    text = f.read()\n",
    "\n",
    "# Extract mse\n",
    "mse = re.findall(r'mse:([\\d.]+)', text)\n",
    "if len(mse) != 12:\n",
    "    raise ValueError(\"Not enough mse values found in the imputation results file.\")\n",
    "\n",
    "mse = np.array(mse, dtype=float)\n",
    "np.mean(mse)\n",
    "\n"
   ]
  },
  {
   "cell_type": "code",
   "execution_count": 33,
   "id": "f32394fc",
   "metadata": {},
   "outputs": [
    {
     "data": {
      "text/plain": [
       "0.8016921058297157"
      ]
     },
     "execution_count": 33,
     "metadata": {},
     "output_type": "execute_result"
    }
   ],
   "source": [
    "# Extract Long-term-forecast\n",
    "import re\n",
    "import numpy as np\n",
    "\n",
    "# Load file\n",
    "filename = \"results/result_long_term_forecast.txt\"\n",
    "with open(filename, 'r') as f:\n",
    "    text = f.read()\n",
    "\n",
    "# Extract mse\n",
    "mse = re.findall(r'mse:([\\d.]+)', text)\n",
    "if len(mse) != 10:\n",
    "    raise ValueError(f\"Expected 10 mse values, found {len(mse)} in {filename}\")\n",
    "\n",
    "mse = np.array(mse, dtype=float)\n",
    "np.mean(mse)"
   ]
  },
  {
   "cell_type": "code",
   "execution_count": 35,
   "id": "b4a0ad96",
   "metadata": {},
   "outputs": [
    {
     "data": {
      "text/plain": [
       "0.6840895371575718"
      ]
     },
     "execution_count": 35,
     "metadata": {},
     "output_type": "execute_result"
    }
   ],
   "source": [
    "# Extract classification\n",
    "import re\n",
    "import numpy as np\n",
    "\n",
    "# YOU SHOULD DO A GREP accuracy in log file\n",
    "accs = \"\"\"accuracy:0.2661596958174905\n",
    "accuracy:0.507094211123723\n",
    "accuracy:0.26588235294117646\n",
    "accuracy:0.7658536585365854\n",
    "accuracy:0.9486486486486486\n",
    "accuracy:0.861271676300578\n",
    "accuracy:0.89419795221843\n",
    "accuracy:0.55\n",
    "accuracy:0.931787175989086\n",
    "accuracy:0.85\"\"\"\n",
    "\n",
    "\n",
    "# extract accuracies\n",
    "accs = re.findall(r'accuracy:([\\d.]+)', accs)\n",
    "if len(accs) != 10:\n",
    "    raise ValueError(\"Not enough accuracies found, expected 10, found {}\".format(len(accs)))\n",
    "\n",
    "accs = np.array(accs, dtype=float)\n",
    "np.mean(accs)"
   ]
  },
  {
   "cell_type": "code",
   "execution_count": null,
   "id": "24bf4e2b",
   "metadata": {},
   "outputs": [],
   "source": []
  },
  {
   "cell_type": "code",
   "execution_count": null,
   "id": "e092074c",
   "metadata": {},
   "outputs": [],
   "source": []
  }
 ],
 "metadata": {
  "kernelspec": {
   "display_name": "tsl_venv",
   "language": "python",
   "name": "python3"
  },
  "language_info": {
   "codemirror_mode": {
    "name": "ipython",
    "version": 3
   },
   "file_extension": ".py",
   "mimetype": "text/x-python",
   "name": "python",
   "nbconvert_exporter": "python",
   "pygments_lexer": "ipython3",
   "version": "3.11.6"
  }
 },
 "nbformat": 4,
 "nbformat_minor": 5
}
